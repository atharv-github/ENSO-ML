{
  "nbformat": 4,
  "nbformat_minor": 0,
  "metadata": {
    "colab": {
      "provenance": []
    },
    "kernelspec": {
      "name": "python3",
      "display_name": "Python 3"
    },
    "language_info": {
      "name": "python"
    }
  },
  "cells": [
    {
      "cell_type": "code",
      "execution_count": 115,
      "metadata": {
        "id": "Pfl_onbtjno0"
      },
      "outputs": [],
      "source": [
        "from statsmodels.graphics.tsaplots import plot_acf, plot_pacf\n",
        "from statsmodels.tsa.statespace.varmax import VARMAX\n",
        "from statsmodels.tsa.api import VAR\n",
        "from statsmodels.tsa.stattools import grangercausalitytests, adfuller\n",
        "from tqdm import tqdm_notebook\n",
        "from itertools import product\n",
        "\n",
        "import matplotlib.pyplot as plt\n",
        "import statsmodels.api as sm\n",
        "import pandas as pd\n",
        "import numpy as np\n",
        "\n",
        "import datetime\n",
        "\n",
        "import warnings\n",
        "warnings.filterwarnings('ignore')"
      ]
    },
    {
      "cell_type": "code",
      "source": [
        "fp = \"https://raw.githubusercontent.com/atharv-github/ENSO-ML/main/Copy%20of%20Warm_Water_Volume.csv\"\n",
        "data = pd.read_csv(fp, parse_dates=['Date'])#, index_col='Date')\n",
        "print(data.shape)\n",
        "data"
      ],
      "metadata": {
        "colab": {
          "base_uri": "https://localhost:8080/",
          "height": 441
        },
        "id": "ogRSihsxjsH6",
        "outputId": "e2f4d357-1a24-449c-a61f-80939cbaa61a"
      },
      "execution_count": 116,
      "outputs": [
        {
          "output_type": "stream",
          "name": "stdout",
          "text": [
            "(520, 4)\n"
          ]
        },
        {
          "output_type": "execute_result",
          "data": {
            "text/plain": [
              "          Date       Anomaly  Anomaly fit  ENSO val\n",
              "0   1980-01-01  7.660000e+13        0.766       0.6\n",
              "1   1980-01-02  7.000000e+13        0.700       0.5\n",
              "2   1980-01-03  5.240000e+13        0.524       0.3\n",
              "3   1980-01-04  4.010000e+13        0.401       0.4\n",
              "4   1980-01-05  4.020000e+13        0.402       0.5\n",
              "..         ...           ...          ...       ...\n",
              "515 2022-01-12  1.560000e+14        1.560      -0.8\n",
              "516 2023-01-01  1.760000e+14        1.760      -0.7\n",
              "517 2023-01-02  1.870000e+14        1.870      -0.4\n",
              "518 2023-01-03  1.970000e+14        1.970      -0.1\n",
              "519 2023-01-04  2.110000e+14        2.110       0.1\n",
              "\n",
              "[520 rows x 4 columns]"
            ],
            "text/html": [
              "\n",
              "\n",
              "  <div id=\"df-1ac1caa9-351f-4943-9dbf-fe90c0ef59a7\">\n",
              "    <div class=\"colab-df-container\">\n",
              "      <div>\n",
              "<style scoped>\n",
              "    .dataframe tbody tr th:only-of-type {\n",
              "        vertical-align: middle;\n",
              "    }\n",
              "\n",
              "    .dataframe tbody tr th {\n",
              "        vertical-align: top;\n",
              "    }\n",
              "\n",
              "    .dataframe thead th {\n",
              "        text-align: right;\n",
              "    }\n",
              "</style>\n",
              "<table border=\"1\" class=\"dataframe\">\n",
              "  <thead>\n",
              "    <tr style=\"text-align: right;\">\n",
              "      <th></th>\n",
              "      <th>Date</th>\n",
              "      <th>Anomaly</th>\n",
              "      <th>Anomaly fit</th>\n",
              "      <th>ENSO val</th>\n",
              "    </tr>\n",
              "  </thead>\n",
              "  <tbody>\n",
              "    <tr>\n",
              "      <th>0</th>\n",
              "      <td>1980-01-01</td>\n",
              "      <td>7.660000e+13</td>\n",
              "      <td>0.766</td>\n",
              "      <td>0.6</td>\n",
              "    </tr>\n",
              "    <tr>\n",
              "      <th>1</th>\n",
              "      <td>1980-01-02</td>\n",
              "      <td>7.000000e+13</td>\n",
              "      <td>0.700</td>\n",
              "      <td>0.5</td>\n",
              "    </tr>\n",
              "    <tr>\n",
              "      <th>2</th>\n",
              "      <td>1980-01-03</td>\n",
              "      <td>5.240000e+13</td>\n",
              "      <td>0.524</td>\n",
              "      <td>0.3</td>\n",
              "    </tr>\n",
              "    <tr>\n",
              "      <th>3</th>\n",
              "      <td>1980-01-04</td>\n",
              "      <td>4.010000e+13</td>\n",
              "      <td>0.401</td>\n",
              "      <td>0.4</td>\n",
              "    </tr>\n",
              "    <tr>\n",
              "      <th>4</th>\n",
              "      <td>1980-01-05</td>\n",
              "      <td>4.020000e+13</td>\n",
              "      <td>0.402</td>\n",
              "      <td>0.5</td>\n",
              "    </tr>\n",
              "    <tr>\n",
              "      <th>...</th>\n",
              "      <td>...</td>\n",
              "      <td>...</td>\n",
              "      <td>...</td>\n",
              "      <td>...</td>\n",
              "    </tr>\n",
              "    <tr>\n",
              "      <th>515</th>\n",
              "      <td>2022-01-12</td>\n",
              "      <td>1.560000e+14</td>\n",
              "      <td>1.560</td>\n",
              "      <td>-0.8</td>\n",
              "    </tr>\n",
              "    <tr>\n",
              "      <th>516</th>\n",
              "      <td>2023-01-01</td>\n",
              "      <td>1.760000e+14</td>\n",
              "      <td>1.760</td>\n",
              "      <td>-0.7</td>\n",
              "    </tr>\n",
              "    <tr>\n",
              "      <th>517</th>\n",
              "      <td>2023-01-02</td>\n",
              "      <td>1.870000e+14</td>\n",
              "      <td>1.870</td>\n",
              "      <td>-0.4</td>\n",
              "    </tr>\n",
              "    <tr>\n",
              "      <th>518</th>\n",
              "      <td>2023-01-03</td>\n",
              "      <td>1.970000e+14</td>\n",
              "      <td>1.970</td>\n",
              "      <td>-0.1</td>\n",
              "    </tr>\n",
              "    <tr>\n",
              "      <th>519</th>\n",
              "      <td>2023-01-04</td>\n",
              "      <td>2.110000e+14</td>\n",
              "      <td>2.110</td>\n",
              "      <td>0.1</td>\n",
              "    </tr>\n",
              "  </tbody>\n",
              "</table>\n",
              "<p>520 rows × 4 columns</p>\n",
              "</div>\n",
              "      <button class=\"colab-df-convert\" onclick=\"convertToInteractive('df-1ac1caa9-351f-4943-9dbf-fe90c0ef59a7')\"\n",
              "              title=\"Convert this dataframe to an interactive table.\"\n",
              "              style=\"display:none;\">\n",
              "\n",
              "  <svg xmlns=\"http://www.w3.org/2000/svg\" height=\"24px\"viewBox=\"0 0 24 24\"\n",
              "       width=\"24px\">\n",
              "    <path d=\"M0 0h24v24H0V0z\" fill=\"none\"/>\n",
              "    <path d=\"M18.56 5.44l.94 2.06.94-2.06 2.06-.94-2.06-.94-.94-2.06-.94 2.06-2.06.94zm-11 1L8.5 8.5l.94-2.06 2.06-.94-2.06-.94L8.5 2.5l-.94 2.06-2.06.94zm10 10l.94 2.06.94-2.06 2.06-.94-2.06-.94-.94-2.06-.94 2.06-2.06.94z\"/><path d=\"M17.41 7.96l-1.37-1.37c-.4-.4-.92-.59-1.43-.59-.52 0-1.04.2-1.43.59L10.3 9.45l-7.72 7.72c-.78.78-.78 2.05 0 2.83L4 21.41c.39.39.9.59 1.41.59.51 0 1.02-.2 1.41-.59l7.78-7.78 2.81-2.81c.8-.78.8-2.07 0-2.86zM5.41 20L4 18.59l7.72-7.72 1.47 1.35L5.41 20z\"/>\n",
              "  </svg>\n",
              "      </button>\n",
              "\n",
              "\n",
              "\n",
              "    <div id=\"df-1356342a-4a08-4cb8-8859-0add3a97b260\">\n",
              "      <button class=\"colab-df-quickchart\" onclick=\"quickchart('df-1356342a-4a08-4cb8-8859-0add3a97b260')\"\n",
              "              title=\"Suggest charts.\"\n",
              "              style=\"display:none;\">\n",
              "\n",
              "<svg xmlns=\"http://www.w3.org/2000/svg\" height=\"24px\"viewBox=\"0 0 24 24\"\n",
              "     width=\"24px\">\n",
              "    <g>\n",
              "        <path d=\"M19 3H5c-1.1 0-2 .9-2 2v14c0 1.1.9 2 2 2h14c1.1 0 2-.9 2-2V5c0-1.1-.9-2-2-2zM9 17H7v-7h2v7zm4 0h-2V7h2v10zm4 0h-2v-4h2v4z\"/>\n",
              "    </g>\n",
              "</svg>\n",
              "      </button>\n",
              "    </div>\n",
              "\n",
              "<style>\n",
              "  .colab-df-quickchart {\n",
              "    background-color: #E8F0FE;\n",
              "    border: none;\n",
              "    border-radius: 50%;\n",
              "    cursor: pointer;\n",
              "    display: none;\n",
              "    fill: #1967D2;\n",
              "    height: 32px;\n",
              "    padding: 0 0 0 0;\n",
              "    width: 32px;\n",
              "  }\n",
              "\n",
              "  .colab-df-quickchart:hover {\n",
              "    background-color: #E2EBFA;\n",
              "    box-shadow: 0px 1px 2px rgba(60, 64, 67, 0.3), 0px 1px 3px 1px rgba(60, 64, 67, 0.15);\n",
              "    fill: #174EA6;\n",
              "  }\n",
              "\n",
              "  [theme=dark] .colab-df-quickchart {\n",
              "    background-color: #3B4455;\n",
              "    fill: #D2E3FC;\n",
              "  }\n",
              "\n",
              "  [theme=dark] .colab-df-quickchart:hover {\n",
              "    background-color: #434B5C;\n",
              "    box-shadow: 0px 1px 3px 1px rgba(0, 0, 0, 0.15);\n",
              "    filter: drop-shadow(0px 1px 2px rgba(0, 0, 0, 0.3));\n",
              "    fill: #FFFFFF;\n",
              "  }\n",
              "</style>\n",
              "\n",
              "    <script>\n",
              "      async function quickchart(key) {\n",
              "        const containerElement = document.querySelector('#' + key);\n",
              "        const charts = await google.colab.kernel.invokeFunction(\n",
              "            'suggestCharts', [key], {});\n",
              "      }\n",
              "    </script>\n",
              "\n",
              "      <script>\n",
              "\n",
              "function displayQuickchartButton(domScope) {\n",
              "  let quickchartButtonEl =\n",
              "    domScope.querySelector('#df-1356342a-4a08-4cb8-8859-0add3a97b260 button.colab-df-quickchart');\n",
              "  quickchartButtonEl.style.display =\n",
              "    google.colab.kernel.accessAllowed ? 'block' : 'none';\n",
              "}\n",
              "\n",
              "        displayQuickchartButton(document);\n",
              "      </script>\n",
              "      <style>\n",
              "    .colab-df-container {\n",
              "      display:flex;\n",
              "      flex-wrap:wrap;\n",
              "      gap: 12px;\n",
              "    }\n",
              "\n",
              "    .colab-df-convert {\n",
              "      background-color: #E8F0FE;\n",
              "      border: none;\n",
              "      border-radius: 50%;\n",
              "      cursor: pointer;\n",
              "      display: none;\n",
              "      fill: #1967D2;\n",
              "      height: 32px;\n",
              "      padding: 0 0 0 0;\n",
              "      width: 32px;\n",
              "    }\n",
              "\n",
              "    .colab-df-convert:hover {\n",
              "      background-color: #E2EBFA;\n",
              "      box-shadow: 0px 1px 2px rgba(60, 64, 67, 0.3), 0px 1px 3px 1px rgba(60, 64, 67, 0.15);\n",
              "      fill: #174EA6;\n",
              "    }\n",
              "\n",
              "    [theme=dark] .colab-df-convert {\n",
              "      background-color: #3B4455;\n",
              "      fill: #D2E3FC;\n",
              "    }\n",
              "\n",
              "    [theme=dark] .colab-df-convert:hover {\n",
              "      background-color: #434B5C;\n",
              "      box-shadow: 0px 1px 3px 1px rgba(0, 0, 0, 0.15);\n",
              "      filter: drop-shadow(0px 1px 2px rgba(0, 0, 0, 0.3));\n",
              "      fill: #FFFFFF;\n",
              "    }\n",
              "  </style>\n",
              "\n",
              "      <script>\n",
              "        const buttonEl =\n",
              "          document.querySelector('#df-1ac1caa9-351f-4943-9dbf-fe90c0ef59a7 button.colab-df-convert');\n",
              "        buttonEl.style.display =\n",
              "          google.colab.kernel.accessAllowed ? 'block' : 'none';\n",
              "\n",
              "        async function convertToInteractive(key) {\n",
              "          const element = document.querySelector('#df-1ac1caa9-351f-4943-9dbf-fe90c0ef59a7');\n",
              "          const dataTable =\n",
              "            await google.colab.kernel.invokeFunction('convertToInteractive',\n",
              "                                                     [key], {});\n",
              "          if (!dataTable) return;\n",
              "\n",
              "          const docLinkHtml = 'Like what you see? Visit the ' +\n",
              "            '<a target=\"_blank\" href=https://colab.research.google.com/notebooks/data_table.ipynb>data table notebook</a>'\n",
              "            + ' to learn more about interactive tables.';\n",
              "          element.innerHTML = '';\n",
              "          dataTable['output_type'] = 'display_data';\n",
              "          await google.colab.output.renderOutput(dataTable, element);\n",
              "          const docLink = document.createElement('div');\n",
              "          docLink.innerHTML = docLinkHtml;\n",
              "          element.appendChild(docLink);\n",
              "        }\n",
              "      </script>\n",
              "    </div>\n",
              "  </div>\n"
            ]
          },
          "metadata": {},
          "execution_count": 116
        }
      ]
    },
    {
      "cell_type": "code",
      "source": [
        "data=data.rename(columns={\"Anomaly fit\":\"WWV Anomaly fit\"})\n",
        "data.dtypes"
      ],
      "metadata": {
        "colab": {
          "base_uri": "https://localhost:8080/"
        },
        "id": "IrLm0g0Cjv2n",
        "outputId": "5f6d871a-6ae3-451b-ee20-0665690772ae"
      },
      "execution_count": 117,
      "outputs": [
        {
          "output_type": "execute_result",
          "data": {
            "text/plain": [
              "Date               datetime64[ns]\n",
              "Anomaly                   float64\n",
              "WWV Anomaly fit           float64\n",
              "ENSO val                  float64\n",
              "dtype: object"
            ]
          },
          "metadata": {},
          "execution_count": 117
        }
      ]
    },
    {
      "cell_type": "code",
      "source": [
        "ad_fuller_result_1 = adfuller(data['WWV Anomaly fit'])\n",
        "\n",
        "print('WWV Anomaly')\n",
        "print(f'ADF Statistic: {ad_fuller_result_1[0]}')\n",
        "print(f'p-value: {ad_fuller_result_1[1]}')\n",
        "\n",
        "print('\\n---------------------\\n')\n",
        "\n",
        "ad_fuller_result_2 = adfuller(data['ENSO val'])\n",
        "\n",
        "print('ENSO val')\n",
        "print(f'ADF Statistic: {ad_fuller_result_2[0]}')\n",
        "print(f'p-value: {ad_fuller_result_2[1]}')"
      ],
      "metadata": {
        "colab": {
          "base_uri": "https://localhost:8080/"
        },
        "id": "HbYCV99_mW7w",
        "outputId": "f0811b07-eaa9-45c0-d1ac-efe519b0e2c5"
      },
      "execution_count": 118,
      "outputs": [
        {
          "output_type": "stream",
          "name": "stdout",
          "text": [
            "WWV Anomaly\n",
            "ADF Statistic: -5.453560663254444\n",
            "p-value: 2.611801630538864e-06\n",
            "\n",
            "---------------------\n",
            "\n",
            "ENSO val\n",
            "ADF Statistic: -5.714709575367639\n",
            "p-value: 7.165183174621446e-07\n"
          ]
        }
      ]
    },
    {
      "cell_type": "markdown",
      "source": [
        "The data provided is STATIONARY because the p values for ADF test are less than 0.05. Thus, we dont have to manipulate the data anymore. We can apply the test directly now."
      ],
      "metadata": {
        "id": "62fmNcLGnfW9"
      }
    },
    {
      "cell_type": "code",
      "source": [
        "print('WWV Anomaly causes ENSO val?\\n')\n",
        "print('------------------')\n",
        "granger_1 = grangercausalitytests(data[['ENSO val', 'WWV Anomaly fit']], 2)\n",
        "\n",
        "print('\\nENSO val causes WWV Anomaly?\\n')\n",
        "print('------------------')\n",
        "granger_2 = grangercausalitytests(data[['WWV Anomaly fit', 'ENSO val']], 2)"
      ],
      "metadata": {
        "colab": {
          "base_uri": "https://localhost:8080/"
        },
        "id": "_6pXhirQnGeR",
        "outputId": "3cdf3203-514b-4063-a0f1-c295ec0893a8"
      },
      "execution_count": 119,
      "outputs": [
        {
          "output_type": "stream",
          "name": "stdout",
          "text": [
            "WWV Anomaly causes ENSO val?\n",
            "\n",
            "------------------\n",
            "\n",
            "Granger Causality\n",
            "number of lags (no zero) 1\n",
            "ssr based F test:         F=294.2284, p=0.0000  , df_denom=516, df_num=1\n",
            "ssr based chi2 test:   chi2=295.9391, p=0.0000  , df=1\n",
            "likelihood ratio test: chi2=234.1777, p=0.0000  , df=1\n",
            "parameter F test:         F=294.2284, p=0.0000  , df_denom=516, df_num=1\n",
            "\n",
            "Granger Causality\n",
            "number of lags (no zero) 2\n",
            "ssr based F test:         F=44.6317 , p=0.0000  , df_denom=513, df_num=2\n",
            "ssr based chi2 test:   chi2=90.1335 , p=0.0000  , df=2\n",
            "likelihood ratio test: chi2=83.0971 , p=0.0000  , df=2\n",
            "parameter F test:         F=44.6317 , p=0.0000  , df_denom=513, df_num=2\n",
            "\n",
            "ENSO val causes WWV Anomaly?\n",
            "\n",
            "------------------\n",
            "\n",
            "Granger Causality\n",
            "number of lags (no zero) 1\n",
            "ssr based F test:         F=244.6787, p=0.0000  , df_denom=516, df_num=1\n",
            "ssr based chi2 test:   chi2=246.1013, p=0.0000  , df=1\n",
            "likelihood ratio test: chi2=201.4261, p=0.0000  , df=1\n",
            "parameter F test:         F=244.6787, p=0.0000  , df_denom=516, df_num=1\n",
            "\n",
            "Granger Causality\n",
            "number of lags (no zero) 2\n",
            "ssr based F test:         F=21.8966 , p=0.0000  , df_denom=513, df_num=2\n",
            "ssr based chi2 test:   chi2=44.2201 , p=0.0000  , df=2\n",
            "likelihood ratio test: chi2=42.4336 , p=0.0000  , df=2\n",
            "parameter F test:         F=21.8966 , p=0.0000  , df_denom=513, df_num=2\n"
          ]
        }
      ]
    },
    {
      "cell_type": "markdown",
      "source": [
        "Here we have to check the p values for both the cases. Typically if the p values are less than 0.05 we can apply the test scessfully. Since in btoh the cases p values are less than 0.05, we can use VAR test."
      ],
      "metadata": {
        "id": "XianzcrTpw_u"
      }
    },
    {
      "cell_type": "code",
      "source": [
        "data = data[['ENSO val','WWV Anomaly fit']]\n",
        "print(data.shape)"
      ],
      "metadata": {
        "colab": {
          "base_uri": "https://localhost:8080/"
        },
        "id": "FKb_AZBUqb_w",
        "outputId": "2b664a82-ab29-482f-b4d5-cd3728f3ebec"
      },
      "execution_count": 120,
      "outputs": [
        {
          "output_type": "stream",
          "name": "stdout",
          "text": [
            "(520, 2)\n"
          ]
        }
      ]
    },
    {
      "cell_type": "markdown",
      "source": [
        "Split the training and testing data. Last 20 values for test. Rest are for training."
      ],
      "metadata": {
        "id": "GAzbbPWorYo1"
      }
    },
    {
      "cell_type": "code",
      "source": [
        "train_data=data[:-5]\n",
        "test_data=data[-5:]"
      ],
      "metadata": {
        "id": "g2FpcM00qvnh"
      },
      "execution_count": 121,
      "outputs": []
    },
    {
      "cell_type": "code",
      "source": [
        "print(train_data.shape)\n",
        "print(test_data.shape)"
      ],
      "metadata": {
        "colab": {
          "base_uri": "https://localhost:8080/"
        },
        "id": "8ljeYilErBNA",
        "outputId": "51bbec1c-1dbd-4168-f334-005e3860cd08"
      },
      "execution_count": 122,
      "outputs": [
        {
          "output_type": "stream",
          "name": "stdout",
          "text": [
            "(515, 2)\n",
            "(5, 2)\n"
          ]
        }
      ]
    },
    {
      "cell_type": "code",
      "source": [
        "model = VAR(train_data)"
      ],
      "metadata": {
        "id": "Rsk_smKirLeq"
      },
      "execution_count": 123,
      "outputs": []
    },
    {
      "cell_type": "code",
      "source": [
        "sorted_order=model.select_order(maxlags=20)\n",
        "print(sorted_order.summary())"
      ],
      "metadata": {
        "colab": {
          "base_uri": "https://localhost:8080/"
        },
        "id": "kuzaOPGOr7vX",
        "outputId": "6a8fe5b0-833f-4af7-8b86-a66e0c342e2b"
      },
      "execution_count": 124,
      "outputs": [
        {
          "output_type": "stream",
          "name": "stdout",
          "text": [
            " VAR Order Selection (* highlights the minimums)  \n",
            "==================================================\n",
            "       AIC         BIC         FPE         HQIC   \n",
            "--------------------------------------------------\n",
            "0      -0.2246     -0.2076      0.7989     -0.2179\n",
            "1       -6.805      -6.754    0.001109      -6.785\n",
            "2       -8.119      -8.034   0.0002979      -8.086\n",
            "3       -8.471      -8.352   0.0002095      -8.424\n",
            "4       -8.570      -8.417   0.0001897      -8.510\n",
            "5       -8.683     -8.497*   0.0001694     -8.610*\n",
            "6       -8.689      -8.468   0.0001684      -8.603\n",
            "7       -8.704      -8.449   0.0001660      -8.604\n",
            "8       -8.704      -8.416   0.0001658      -8.591\n",
            "9       -8.727      -8.404   0.0001622      -8.600\n",
            "10     -8.734*      -8.377  0.0001611*      -8.594\n",
            "11      -8.727      -8.336   0.0001622      -8.573\n",
            "12      -8.716      -8.291   0.0001640      -8.549\n",
            "13      -8.714      -8.256   0.0001642      -8.534\n",
            "14      -8.719      -8.226   0.0001635      -8.526\n",
            "15      -8.711      -8.184   0.0001648      -8.504\n",
            "16      -8.720      -8.159   0.0001634      -8.500\n",
            "17      -8.713      -8.119   0.0001645      -8.480\n",
            "18      -8.704      -8.075   0.0001661      -8.457\n",
            "19      -8.722      -8.060   0.0001630      -8.462\n",
            "20      -8.725      -8.028   0.0001626      -8.451\n",
            "--------------------------------------------------\n"
          ]
        }
      ]
    },
    {
      "cell_type": "code",
      "source": [
        "var_model = VARMAX(train_data, order=(5,0),enforce_stationarity= True)\n",
        "fitted_model = var_model.fit(disp=False)\n",
        "print(fitted_model.summary())"
      ],
      "metadata": {
        "colab": {
          "base_uri": "https://localhost:8080/"
        },
        "id": "M340SAvssMO8",
        "outputId": "0a4f13e5-66a1-4a00-83ef-6d1ce0ea4369"
      },
      "execution_count": 125,
      "outputs": [
        {
          "output_type": "stream",
          "name": "stdout",
          "text": [
            "                                  Statespace Model Results                                 \n",
            "===========================================================================================\n",
            "Dep. Variable:     ['ENSO val', 'WWV Anomaly fit']   No. Observations:                  515\n",
            "Model:                                      VAR(5)   Log Likelihood                 786.816\n",
            "                                       + intercept   AIC                          -1523.632\n",
            "Date:                             Mon, 17 Jul 2023   BIC                          -1417.528\n",
            "Time:                                     06:49:05   HQIC                         -1482.049\n",
            "Sample:                                          0                                         \n",
            "                                             - 515                                         \n",
            "Covariance Type:                               opg                                         \n",
            "===================================================================================\n",
            "Ljung-Box (L1) (Q):             0.00, 0.48   Jarque-Bera (JB):          2.92, 19.50\n",
            "Prob(Q):                        0.98, 0.49   Prob(JB):                   0.23, 0.00\n",
            "Heteroskedasticity (H):         0.78, 0.46   Skew:                      0.18, -0.05\n",
            "Prob(H) (two-sided):            0.11, 0.00   Kurtosis:                   2.94, 3.95\n",
            "                            Results for equation ENSO val                             \n",
            "======================================================================================\n",
            "                         coef    std err          z      P>|z|      [0.025      0.975]\n",
            "--------------------------------------------------------------------------------------\n",
            "intercept             -0.0061      0.005     -1.235      0.217      -0.016       0.004\n",
            "L1.ENSO val            1.6617      0.046     36.114      0.000       1.572       1.752\n",
            "L1.WWV Anomaly fit     0.2899      0.037      7.819      0.000       0.217       0.363\n",
            "L2.ENSO val           -0.6814      0.093     -7.300      0.000      -0.864      -0.498\n",
            "L2.WWV Anomaly fit    -0.3943      0.087     -4.529      0.000      -0.565      -0.224\n",
            "L3.ENSO val           -0.2418      0.094     -2.576      0.010      -0.426      -0.058\n",
            "L3.WWV Anomaly fit     0.1645      0.107      1.543      0.123      -0.044       0.373\n",
            "L4.ENSO val            0.3992      0.085      4.716      0.000       0.233       0.565\n",
            "L4.WWV Anomaly fit     0.0189      0.091      0.206      0.837      -0.160       0.198\n",
            "L5.ENSO val           -0.1593      0.044     -3.624      0.000      -0.245      -0.073\n",
            "L5.WWV Anomaly fit    -0.0486      0.041     -1.179      0.238      -0.130       0.032\n",
            "                         Results for equation WWV Anomaly fit                         \n",
            "======================================================================================\n",
            "                         coef    std err          z      P>|z|      [0.025      0.975]\n",
            "--------------------------------------------------------------------------------------\n",
            "intercept              0.0028      0.006      0.475      0.635      -0.009       0.014\n",
            "L1.ENSO val           -0.0174      0.048     -0.361      0.718      -0.112       0.077\n",
            "L1.WWV Anomaly fit     2.3043      0.039     59.695      0.000       2.229       2.380\n",
            "L2.ENSO val           -0.1235      0.099     -1.246      0.213      -0.318       0.071\n",
            "L2.WWV Anomaly fit    -2.4381      0.091    -26.811      0.000      -2.616      -2.260\n",
            "L3.ENSO val            0.1756      0.115      1.532      0.125      -0.049       0.400\n",
            "L3.WWV Anomaly fit     1.7556      0.115     15.280      0.000       1.530       1.981\n",
            "L4.ENSO val           -0.1389      0.112     -1.241      0.215      -0.358       0.081\n",
            "L4.WWV Anomaly fit    -0.9092      0.094     -9.675      0.000      -1.093      -0.725\n",
            "L5.ENSO val            0.0314      0.057      0.550      0.582      -0.080       0.143\n",
            "L5.WWV Anomaly fit     0.2759      0.040      6.819      0.000       0.197       0.355\n",
            "                                       Error covariance matrix                                       \n",
            "=====================================================================================================\n",
            "                                        coef    std err          z      P>|z|      [0.025      0.975]\n",
            "-----------------------------------------------------------------------------------------------------\n",
            "sqrt.var.ENSO val                     0.1055      0.003     30.824      0.000       0.099       0.112\n",
            "sqrt.cov.ENSO val.WWV Anomaly fit     0.0303      0.006      5.286      0.000       0.019       0.042\n",
            "sqrt.var.WWV Anomaly fit              0.1191      0.003     36.860      0.000       0.113       0.125\n",
            "=====================================================================================================\n",
            "\n",
            "Warnings:\n",
            "[1] Covariance matrix calculated using the outer product of gradients (complex-step).\n"
          ]
        }
      ]
    },
    {
      "cell_type": "code",
      "source": [
        "n_forecast = 5\n",
        "predict = fitted_model.get_prediction(start=len(train_data),end=len(train_data) + n_forecast-1)#start=\"1989-07-01\",end='1999-01-01')\n",
        "\n",
        "predictions=predict.predicted_mean"
      ],
      "metadata": {
        "id": "6N4_iw0bsz8B"
      },
      "execution_count": 126,
      "outputs": []
    },
    {
      "cell_type": "code",
      "source": [
        "predictions.columns=['ENSO val_predicted','WWV Anomaly fit_predicted']\n",
        "predictions = predictions.drop(['WWV Anomaly fit_predicted'], axis=1)"
      ],
      "metadata": {
        "id": "RbAsNWb6tT4S"
      },
      "execution_count": 127,
      "outputs": []
    },
    {
      "cell_type": "code",
      "source": [
        "predictions.dtypes"
      ],
      "metadata": {
        "colab": {
          "base_uri": "https://localhost:8080/"
        },
        "id": "4WbUJe_45HVp",
        "outputId": "85de5603-0b8e-4974-9d0e-9c557640e20a"
      },
      "execution_count": 128,
      "outputs": [
        {
          "output_type": "execute_result",
          "data": {
            "text/plain": [
              "ENSO val_predicted    float64\n",
              "dtype: object"
            ]
          },
          "metadata": {},
          "execution_count": 128
        }
      ]
    },
    {
      "cell_type": "code",
      "source": [
        "test_vs_pred=pd.concat([test_data,predictions],axis=1)"
      ],
      "metadata": {
        "id": "P1GHtWjXt6_1"
      },
      "execution_count": 129,
      "outputs": []
    },
    {
      "cell_type": "code",
      "source": [
        "test_vs_pred.plot(figsize=(12,5))\n",
        "x = [515.0, 516.0, 517.0, 518.0, 519.0]\n",
        "x_ticks = [\"Dec-22\", \"Jan-23\", \"Feb-23\", \"March-23\",\"April-23\"]\n",
        "plt.xticks(x,x_ticks)\n",
        "plt.title('ENSO VALUE PREDICTIONS')\n",
        "plt.xlabel('Month')\n",
        "plt.ylabel('ENSO value')\n",
        "plt.grid(True)"
      ],
      "metadata": {
        "colab": {
          "base_uri": "https://localhost:8080/",
          "height": 487
        },
        "id": "SIWtty5XuqfB",
        "outputId": "0f85a5ac-5c7e-49c7-bc28-856f42763ce1"
      },
      "execution_count": 130,
      "outputs": [
        {
          "output_type": "display_data",
          "data": {
            "text/plain": [
              "<Figure size 1200x500 with 1 Axes>"
            ],
            "image/png": "[encoded data removed]"
          },
          "metadata": {}
        }
      ]
    },
    {
      "cell_type": "code",
      "source": [
        "new_column = [\"Dec-22\", \"Jan-23\", \"Feb-23\", \"March-23\",\"April-23\"]\n",
        "predictions['Date'] = new_column"
      ],
      "metadata": {
        "id": "Z26JgXTckHAq"
      },
      "execution_count": 131,
      "outputs": []
    },
    {
      "cell_type": "code",
      "source": [
        "new_column_order=['Date', 'ENSO val_predicted']\n",
        "predictions = predictions.reindex(columns=new_column_order)\n",
        "#predicitons.set_index('Date', inplace=True)\n",
        "predictions"
      ],
      "metadata": {
        "colab": {
          "base_uri": "https://localhost:8080/",
          "height": 206
        },
        "id": "Mwk83SA4lGOi",
        "outputId": "132539d9-6a89-4aa1-e8ae-72be2f612320"
      },
      "execution_count": 132,
      "outputs": [
        {
          "output_type": "execute_result",
          "data": {
            "text/plain": [
              "         Date  ENSO val_predicted\n",
              "515    Dec-22           -0.733945\n",
              "516    Jan-23           -0.540367\n",
              "517    Feb-23           -0.342651\n",
              "518  March-23           -0.141010\n",
              "519  April-23            0.060854"
            ],
            "text/html": [
              "\n",
              "\n",
              "  <div id=\"df-e179420e-34f4-4207-93b5-031b40d368ab\">\n",
              "    <div class=\"colab-df-container\">\n",
              "      <div>\n",
              "<style scoped>\n",
              "    .dataframe tbody tr th:only-of-type {\n",
              "        vertical-align: middle;\n",
              "    }\n",
              "\n",
              "    .dataframe tbody tr th {\n",
              "        vertical-align: top;\n",
              "    }\n",
              "\n",
              "    .dataframe thead th {\n",
              "        text-align: right;\n",
              "    }\n",
              "</style>\n",
              "<table border=\"1\" class=\"dataframe\">\n",
              "  <thead>\n",
              "    <tr style=\"text-align: right;\">\n",
              "      <th></th>\n",
              "      <th>Date</th>\n",
              "      <th>ENSO val_predicted</th>\n",
              "    </tr>\n",
              "  </thead>\n",
              "  <tbody>\n",
              "    <tr>\n",
              "      <th>515</th>\n",
              "      <td>Dec-22</td>\n",
              "      <td>-0.733945</td>\n",
              "    </tr>\n",
              "    <tr>\n",
              "      <th>516</th>\n",
              "      <td>Jan-23</td>\n",
              "      <td>-0.540367</td>\n",
              "    </tr>\n",
              "    <tr>\n",
              "      <th>517</th>\n",
              "      <td>Feb-23</td>\n",
              "      <td>-0.342651</td>\n",
              "    </tr>\n",
              "    <tr>\n",
              "      <th>518</th>\n",
              "      <td>March-23</td>\n",
              "      <td>-0.141010</td>\n",
              "    </tr>\n",
              "    <tr>\n",
              "      <th>519</th>\n",
              "      <td>April-23</td>\n",
              "      <td>0.060854</td>\n",
              "    </tr>\n",
              "  </tbody>\n",
              "</table>\n",
              "</div>\n",
              "      <button class=\"colab-df-convert\" onclick=\"convertToInteractive('df-e179420e-34f4-4207-93b5-031b40d368ab')\"\n",
              "              title=\"Convert this dataframe to an interactive table.\"\n",
              "              style=\"display:none;\">\n",
              "\n",
              "  <svg xmlns=\"http://www.w3.org/2000/svg\" height=\"24px\"viewBox=\"0 0 24 24\"\n",
              "       width=\"24px\">\n",
              "    <path d=\"M0 0h24v24H0V0z\" fill=\"none\"/>\n",
              "    <path d=\"M18.56 5.44l.94 2.06.94-2.06 2.06-.94-2.06-.94-.94-2.06-.94 2.06-2.06.94zm-11 1L8.5 8.5l.94-2.06 2.06-.94-2.06-.94L8.5 2.5l-.94 2.06-2.06.94zm10 10l.94 2.06.94-2.06 2.06-.94-2.06-.94-.94-2.06-.94 2.06-2.06.94z\"/><path d=\"M17.41 7.96l-1.37-1.37c-.4-.4-.92-.59-1.43-.59-.52 0-1.04.2-1.43.59L10.3 9.45l-7.72 7.72c-.78.78-.78 2.05 0 2.83L4 21.41c.39.39.9.59 1.41.59.51 0 1.02-.2 1.41-.59l7.78-7.78 2.81-2.81c.8-.78.8-2.07 0-2.86zM5.41 20L4 18.59l7.72-7.72 1.47 1.35L5.41 20z\"/>\n",
              "  </svg>\n",
              "      </button>\n",
              "\n",
              "\n",
              "\n",
              "    <div id=\"df-f4992f3b-2bc4-4098-9f9a-9407e43a73c3\">\n",
              "      <button class=\"colab-df-quickchart\" onclick=\"quickchart('df-f4992f3b-2bc4-4098-9f9a-9407e43a73c3')\"\n",
              "              title=\"Suggest charts.\"\n",
              "              style=\"display:none;\">\n",
              "\n",
              "<svg xmlns=\"http://www.w3.org/2000/svg\" height=\"24px\"viewBox=\"0 0 24 24\"\n",
              "     width=\"24px\">\n",
              "    <g>\n",
              "        <path d=\"M19 3H5c-1.1 0-2 .9-2 2v14c0 1.1.9 2 2 2h14c1.1 0 2-.9 2-2V5c0-1.1-.9-2-2-2zM9 17H7v-7h2v7zm4 0h-2V7h2v10zm4 0h-2v-4h2v4z\"/>\n",
              "    </g>\n",
              "</svg>\n",
              "      </button>\n",
              "    </div>\n",
              "\n",
              "<style>\n",
              "  .colab-df-quickchart {\n",
              "    background-color: #E8F0FE;\n",
              "    border: none;\n",
              "    border-radius: 50%;\n",
              "    cursor: pointer;\n",
              "    display: none;\n",
              "    fill: #1967D2;\n",
              "    height: 32px;\n",
              "    padding: 0 0 0 0;\n",
              "    width: 32px;\n",
              "  }\n",
              "\n",
              "  .colab-df-quickchart:hover {\n",
              "    background-color: #E2EBFA;\n",
              "    box-shadow: 0px 1px 2px rgba(60, 64, 67, 0.3), 0px 1px 3px 1px rgba(60, 64, 67, 0.15);\n",
              "    fill: #174EA6;\n",
              "  }\n",
              "\n",
              "  [theme=dark] .colab-df-quickchart {\n",
              "    background-color: #3B4455;\n",
              "    fill: #D2E3FC;\n",
              "  }\n",
              "\n",
              "  [theme=dark] .colab-df-quickchart:hover {\n",
              "    background-color: #434B5C;\n",
              "    box-shadow: 0px 1px 3px 1px rgba(0, 0, 0, 0.15);\n",
              "    filter: drop-shadow(0px 1px 2px rgba(0, 0, 0, 0.3));\n",
              "    fill: #FFFFFF;\n",
              "  }\n",
              "</style>\n",
              "\n",
              "    <script>\n",
              "      async function quickchart(key) {\n",
              "        const containerElement = document.querySelector('#' + key);\n",
              "        const charts = await google.colab.kernel.invokeFunction(\n",
              "            'suggestCharts', [key], {});\n",
              "      }\n",
              "    </script>\n",
              "\n",
              "      <script>\n",
              "\n",
              "function displayQuickchartButton(domScope) {\n",
              "  let quickchartButtonEl =\n",
              "    domScope.querySelector('#df-f4992f3b-2bc4-4098-9f9a-9407e43a73c3 button.colab-df-quickchart');\n",
              "  quickchartButtonEl.style.display =\n",
              "    google.colab.kernel.accessAllowed ? 'block' : 'none';\n",
              "}\n",
              "\n",
              "        displayQuickchartButton(document);\n",
              "      </script>\n",
              "      <style>\n",
              "    .colab-df-container {\n",
              "      display:flex;\n",
              "      flex-wrap:wrap;\n",
              "      gap: 12px;\n",
              "    }\n",
              "\n",
              "    .colab-df-convert {\n",
              "      background-color: #E8F0FE;\n",
              "      border: none;\n",
              "      border-radius: 50%;\n",
              "      cursor: pointer;\n",
              "      display: none;\n",
              "      fill: #1967D2;\n",
              "      height: 32px;\n",
              "      padding: 0 0 0 0;\n",
              "      width: 32px;\n",
              "    }\n",
              "\n",
              "    .colab-df-convert:hover {\n",
              "      background-color: #E2EBFA;\n",
              "      box-shadow: 0px 1px 2px rgba(60, 64, 67, 0.3), 0px 1px 3px 1px rgba(60, 64, 67, 0.15);\n",
              "      fill: #174EA6;\n",
              "    }\n",
              "\n",
              "    [theme=dark] .colab-df-convert {\n",
              "      background-color: #3B4455;\n",
              "      fill: #D2E3FC;\n",
              "    }\n",
              "\n",
              "    [theme=dark] .colab-df-convert:hover {\n",
              "      background-color: #434B5C;\n",
              "      box-shadow: 0px 1px 3px 1px rgba(0, 0, 0, 0.15);\n",
              "      filter: drop-shadow(0px 1px 2px rgba(0, 0, 0, 0.3));\n",
              "      fill: #FFFFFF;\n",
              "    }\n",
              "  </style>\n",
              "\n",
              "      <script>\n",
              "        const buttonEl =\n",
              "          document.querySelector('#df-e179420e-34f4-4207-93b5-031b40d368ab button.colab-df-convert');\n",
              "        buttonEl.style.display =\n",
              "          google.colab.kernel.accessAllowed ? 'block' : 'none';\n",
              "\n",
              "        async function convertToInteractive(key) {\n",
              "          const element = document.querySelector('#df-e179420e-34f4-4207-93b5-031b40d368ab');\n",
              "          const dataTable =\n",
              "            await google.colab.kernel.invokeFunction('convertToInteractive',\n",
              "                                                     [key], {});\n",
              "          if (!dataTable) return;\n",
              "\n",
              "          const docLinkHtml = 'Like what you see? Visit the ' +\n",
              "            '<a target=\"_blank\" href=https://colab.research.google.com/notebooks/data_table.ipynb>data table notebook</a>'\n",
              "            + ' to learn more about interactive tables.';\n",
              "          element.innerHTML = '';\n",
              "          dataTable['output_type'] = 'display_data';\n",
              "          await google.colab.output.renderOutput(dataTable, element);\n",
              "          const docLink = document.createElement('div');\n",
              "          docLink.innerHTML = docLinkHtml;\n",
              "          element.appendChild(docLink);\n",
              "        }\n",
              "      </script>\n",
              "    </div>\n",
              "  </div>\n"
            ]
          },
          "metadata": {},
          "execution_count": 132
        }
      ]
    },
    {
      "cell_type": "code",
      "source": [
        "from sklearn.metrics import mean_squared_error\n",
        "import math\n",
        "from statistics import mean\n",
        "\n",
        "rmse_ENSOval=math.sqrt(mean_squared_error(predictions['ENSO val_predicted'],test_data['ENSO val']))\n",
        "print('Mean value of ENSO val is : {}. Root Mean Squared Error is :{}'.format(mean(test_data['ENSO val']),rmse_ENSOval))\n",
        "\n",
        "#rmse_anomaly=math.sqrt(mean_squared_error(predictions['WWV Anomaly fit_predicted'],test_data['WWV Anomaly fit']))\n",
        "#print('Mean value of WWV Anomaly fit is : {}. Root Mean Squared Error is :{}'.format(mean(test_data['WWV Anomaly fit']),rmse_anomaly))"
      ],
      "metadata": {
        "colab": {
          "base_uri": "https://localhost:8080/"
        },
        "id": "BY7ZnHqkutRa",
        "outputId": "187006d5-3885-4f41-9117-16125486cc93"
      },
      "execution_count": 133,
      "outputs": [
        {
          "output_type": "stream",
          "name": "stdout",
          "text": [
            "Mean value of ENSO val is : -0.38. Root Mean Squared Error is :0.08526312157897298\n"
          ]
        }
      ]
    },
    {
      "cell_type": "markdown",
      "source": [
        "Please note that the WWV Anomaly fit here referst to the Warm Water\n",
        "Anomaly data that is divided by 10 raised to 14, so that it fits the ENSO data."
      ],
      "metadata": {
        "id": "BdRRiBGUwWXV"
      }
    }
  ]
}