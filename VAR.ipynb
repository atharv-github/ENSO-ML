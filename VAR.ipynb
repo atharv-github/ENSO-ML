{
  "nbformat": 4,
  "nbformat_minor": 0,
  "metadata": {
    "colab": {
      "provenance": []
    },
    "kernelspec": {
      "name": "python3",
      "display_name": "Python 3"
    },
    "language_info": {
      "name": "python"
    }
  },
  "cells": [
    {
      "cell_type": "code",
      "execution_count": null,
      "metadata": {
        "id": "Pfl_onbtjno0"
      },
      "outputs": [],
      "source": [
        "from statsmodels.graphics.tsaplots import plot_acf, plot_pacf\n",
        "from statsmodels.tsa.statespace.varmax import VARMAX\n",
        "from statsmodels.tsa.api import VAR\n",
        "from statsmodels.tsa.stattools import grangercausalitytests, adfuller\n",
        "from tqdm import tqdm_notebook\n",
        "from itertools import product\n",
        "\n",
        "import matplotlib.pyplot as plt\n",
        "import statsmodels.api as sm\n",
        "import pandas as pd\n",
        "import numpy as np\n",
        "\n",
        "import datetime\n",
        "\n",
        "import warnings\n",
        "warnings.filterwarnings('ignore')"
      ]
    },
    {
      "cell_type": "code",
      "source": [
        "fp = \"https://raw.githubusercontent.com/atharv-github/ENSO-ML/main/Copy%20of%20Warm_Water_Volume.csv\"\n",
        "data = pd.read_csv(fp, parse_dates=['Date'])#, index_col='Date')\n",
        "print(data.shape)\n",
        "data"
      ],
      "metadata": {
        "colab": {
          "base_uri": "https://localhost:8080/",
          "height": 441
        },
        "id": "ogRSihsxjsH6",
        "outputId": "2ae92f90-3dd0-43cd-b6bc-7e01c9257ce8"
      },
      "execution_count": null,
      "outputs": [
        {
          "output_type": "stream",
          "name": "stdout",
          "text": [
            "(520, 4)\n"
          ]
        },
        {
          "output_type": "execute_result",
          "data": {
            "text/plain": [
              "          Date       Anomaly  Anomaly fit  ENSO val\n",
              "0   1980-01-01  7.660000e+13        0.766       0.6\n",
              "1   1980-01-02  7.000000e+13        0.700       0.5\n",
              "2   1980-01-03  5.240000e+13        0.524       0.3\n",
              "3   1980-01-04  4.010000e+13        0.401       0.4\n",
              "4   1980-01-05  4.020000e+13        0.402       0.5\n",
              "..         ...           ...          ...       ...\n",
              "515 2022-01-12  1.560000e+14        1.560      -0.8\n",
              "516 2023-01-01  1.760000e+14        1.760      -0.7\n",
              "517 2023-01-02  1.870000e+14        1.870      -0.4\n",
              "518 2023-01-03  1.970000e+14        1.970      -0.1\n",
              "519 2023-01-04  2.110000e+14        2.110       0.1\n",
              "\n",
              "[520 rows x 4 columns]"
            ],
            "text/html": [
              "\n",
              "\n",
              "  <div id=\"df-6210f816-1e81-43ae-80cc-b17cb466288a\">\n",
              "    <div class=\"colab-df-container\">\n",
              "      <div>\n",
              "<style scoped>\n",
              "    .dataframe tbody tr th:only-of-type {\n",
              "        vertical-align: middle;\n",
              "    }\n",
              "\n",
              "    .dataframe tbody tr th {\n",
              "        vertical-align: top;\n",
              "    }\n",
              "\n",
              "    .dataframe thead th {\n",
              "        text-align: right;\n",
              "    }\n",
              "</style>\n",
              "<table border=\"1\" class=\"dataframe\">\n",
              "  <thead>\n",
              "    <tr style=\"text-align: right;\">\n",
              "      <th></th>\n",
              "      <th>Date</th>\n",
              "      <th>Anomaly</th>\n",
              "      <th>Anomaly fit</th>\n",
              "      <th>ENSO val</th>\n",
              "    </tr>\n",
              "  </thead>\n",
              "  <tbody>\n",
              "    <tr>\n",
              "      <th>0</th>\n",
              "      <td>1980-01-01</td>\n",
              "      <td>7.660000e+13</td>\n",
              "      <td>0.766</td>\n",
              "      <td>0.6</td>\n",
              "    </tr>\n",
              "    <tr>\n",
              "      <th>1</th>\n",
              "      <td>1980-01-02</td>\n",
              "      <td>7.000000e+13</td>\n",
              "      <td>0.700</td>\n",
              "      <td>0.5</td>\n",
              "    </tr>\n",
              "    <tr>\n",
              "      <th>2</th>\n",
              "      <td>1980-01-03</td>\n",
              "      <td>5.240000e+13</td>\n",
              "      <td>0.524</td>\n",
              "      <td>0.3</td>\n",
              "    </tr>\n",
              "    <tr>\n",
              "      <th>3</th>\n",
              "      <td>1980-01-04</td>\n",
              "      <td>4.010000e+13</td>\n",
              "      <td>0.401</td>\n",
              "      <td>0.4</td>\n",
              "    </tr>\n",
              "    <tr>\n",
              "      <th>4</th>\n",
              "      <td>1980-01-05</td>\n",
              "      <td>4.020000e+13</td>\n",
              "      <td>0.402</td>\n",
              "      <td>0.5</td>\n",
              "    </tr>\n",
              "    <tr>\n",
              "      <th>...</th>\n",
              "      <td>...</td>\n",
              "      <td>...</td>\n",
              "      <td>...</td>\n",
              "      <td>...</td>\n",
              "    </tr>\n",
              "    <tr>\n",
              "      <th>515</th>\n",
              "      <td>2022-01-12</td>\n",
              "      <td>1.560000e+14</td>\n",
              "      <td>1.560</td>\n",
              "      <td>-0.8</td>\n",
              "    </tr>\n",
              "    <tr>\n",
              "      <th>516</th>\n",
              "      <td>2023-01-01</td>\n",
              "      <td>1.760000e+14</td>\n",
              "      <td>1.760</td>\n",
              "      <td>-0.7</td>\n",
              "    </tr>\n",
              "    <tr>\n",
              "      <th>517</th>\n",
              "      <td>2023-01-02</td>\n",
              "      <td>1.870000e+14</td>\n",
              "      <td>1.870</td>\n",
              "      <td>-0.4</td>\n",
              "    </tr>\n",
              "    <tr>\n",
              "      <th>518</th>\n",
              "      <td>2023-01-03</td>\n",
              "      <td>1.970000e+14</td>\n",
              "      <td>1.970</td>\n",
              "      <td>-0.1</td>\n",
              "    </tr>\n",
              "    <tr>\n",
              "      <th>519</th>\n",
              "      <td>2023-01-04</td>\n",
              "      <td>2.110000e+14</td>\n",
              "      <td>2.110</td>\n",
              "      <td>0.1</td>\n",
              "    </tr>\n",
              "  </tbody>\n",
              "</table>\n",
              "<p>520 rows × 4 columns</p>\n",
              "</div>\n",
              "      <button class=\"colab-df-convert\" onclick=\"convertToInteractive('df-6210f816-1e81-43ae-80cc-b17cb466288a')\"\n",
              "              title=\"Convert this dataframe to an interactive table.\"\n",
              "              style=\"display:none;\">\n",
              "\n",
              "  <svg xmlns=\"http://www.w3.org/2000/svg\" height=\"24px\"viewBox=\"0 0 24 24\"\n",
              "       width=\"24px\">\n",
              "    <path d=\"M0 0h24v24H0V0z\" fill=\"none\"/>\n",
              "    <path d=\"M18.56 5.44l.94 2.06.94-2.06 2.06-.94-2.06-.94-.94-2.06-.94 2.06-2.06.94zm-11 1L8.5 8.5l.94-2.06 2.06-.94-2.06-.94L8.5 2.5l-.94 2.06-2.06.94zm10 10l.94 2.06.94-2.06 2.06-.94-2.06-.94-.94-2.06-.94 2.06-2.06.94z\"/><path d=\"M17.41 7.96l-1.37-1.37c-.4-.4-.92-.59-1.43-.59-.52 0-1.04.2-1.43.59L10.3 9.45l-7.72 7.72c-.78.78-.78 2.05 0 2.83L4 21.41c.39.39.9.59 1.41.59.51 0 1.02-.2 1.41-.59l7.78-7.78 2.81-2.81c.8-.78.8-2.07 0-2.86zM5.41 20L4 18.59l7.72-7.72 1.47 1.35L5.41 20z\"/>\n",
              "  </svg>\n",
              "      </button>\n",
              "\n",
              "\n",
              "\n",
              "    <div id=\"df-0b2a52b4-60ec-4cb5-be3e-1dab6ddf7a4c\">\n",
              "      <button class=\"colab-df-quickchart\" onclick=\"quickchart('df-0b2a52b4-60ec-4cb5-be3e-1dab6ddf7a4c')\"\n",
              "              title=\"Suggest charts.\"\n",
              "              style=\"display:none;\">\n",
              "\n",
              "<svg xmlns=\"http://www.w3.org/2000/svg\" height=\"24px\"viewBox=\"0 0 24 24\"\n",
              "     width=\"24px\">\n",
              "    <g>\n",
              "        <path d=\"M19 3H5c-1.1 0-2 .9-2 2v14c0 1.1.9 2 2 2h14c1.1 0 2-.9 2-2V5c0-1.1-.9-2-2-2zM9 17H7v-7h2v7zm4 0h-2V7h2v10zm4 0h-2v-4h2v4z\"/>\n",
              "    </g>\n",
              "</svg>\n",
              "      </button>\n",
              "    </div>\n",
              "\n",
              "<style>\n",
              "  .colab-df-quickchart {\n",
              "    background-color: #E8F0FE;\n",
              "    border: none;\n",
              "    border-radius: 50%;\n",
              "    cursor: pointer;\n",
              "    display: none;\n",
              "    fill: #1967D2;\n",
              "    height: 32px;\n",
              "    padding: 0 0 0 0;\n",
              "    width: 32px;\n",
              "  }\n",
              "\n",
              "  .colab-df-quickchart:hover {\n",
              "    background-color: #E2EBFA;\n",
              "    box-shadow: 0px 1px 2px rgba(60, 64, 67, 0.3), 0px 1px 3px 1px rgba(60, 64, 67, 0.15);\n",
              "    fill: #174EA6;\n",
              "  }\n",
              "\n",
              "  [theme=dark] .colab-df-quickchart {\n",
              "    background-color: #3B4455;\n",
              "    fill: #D2E3FC;\n",
              "  }\n",
              "\n",
              "  [theme=dark] .colab-df-quickchart:hover {\n",
              "    background-color: #434B5C;\n",
              "    box-shadow: 0px 1px 3px 1px rgba(0, 0, 0, 0.15);\n",
              "    filter: drop-shadow(0px 1px 2px rgba(0, 0, 0, 0.3));\n",
              "    fill: #FFFFFF;\n",
              "  }\n",
              "</style>\n",
              "\n",
              "    <script>\n",
              "      async function quickchart(key) {\n",
              "        const containerElement = document.querySelector('#' + key);\n",
              "        const charts = await google.colab.kernel.invokeFunction(\n",
              "            'suggestCharts', [key], {});\n",
              "      }\n",
              "    </script>\n",
              "\n",
              "      <script>\n",
              "\n",
              "function displayQuickchartButton(domScope) {\n",
              "  let quickchartButtonEl =\n",
              "    domScope.querySelector('#df-0b2a52b4-60ec-4cb5-be3e-1dab6ddf7a4c button.colab-df-quickchart');\n",
              "  quickchartButtonEl.style.display =\n",
              "    google.colab.kernel.accessAllowed ? 'block' : 'none';\n",
              "}\n",
              "\n",
              "        displayQuickchartButton(document);\n",
              "      </script>\n",
              "      <style>\n",
              "    .colab-df-container {\n",
              "      display:flex;\n",
              "      flex-wrap:wrap;\n",
              "      gap: 12px;\n",
              "    }\n",
              "\n",
              "    .colab-df-convert {\n",
              "      background-color: #E8F0FE;\n",
              "      border: none;\n",
              "      border-radius: 50%;\n",
              "      cursor: pointer;\n",
              "      display: none;\n",
              "      fill: #1967D2;\n",
              "      height: 32px;\n",
              "      padding: 0 0 0 0;\n",
              "      width: 32px;\n",
              "    }\n",
              "\n",
              "    .colab-df-convert:hover {\n",
              "      background-color: #E2EBFA;\n",
              "      box-shadow: 0px 1px 2px rgba(60, 64, 67, 0.3), 0px 1px 3px 1px rgba(60, 64, 67, 0.15);\n",
              "      fill: #174EA6;\n",
              "    }\n",
              "\n",
              "    [theme=dark] .colab-df-convert {\n",
              "      background-color: #3B4455;\n",
              "      fill: #D2E3FC;\n",
              "    }\n",
              "\n",
              "    [theme=dark] .colab-df-convert:hover {\n",
              "      background-color: #434B5C;\n",
              "      box-shadow: 0px 1px 3px 1px rgba(0, 0, 0, 0.15);\n",
              "      filter: drop-shadow(0px 1px 2px rgba(0, 0, 0, 0.3));\n",
              "      fill: #FFFFFF;\n",
              "    }\n",
              "  </style>\n",
              "\n",
              "      <script>\n",
              "        const buttonEl =\n",
              "          document.querySelector('#df-6210f816-1e81-43ae-80cc-b17cb466288a button.colab-df-convert');\n",
              "        buttonEl.style.display =\n",
              "          google.colab.kernel.accessAllowed ? 'block' : 'none';\n",
              "\n",
              "        async function convertToInteractive(key) {\n",
              "          const element = document.querySelector('#df-6210f816-1e81-43ae-80cc-b17cb466288a');\n",
              "          const dataTable =\n",
              "            await google.colab.kernel.invokeFunction('convertToInteractive',\n",
              "                                                     [key], {});\n",
              "          if (!dataTable) return;\n",
              "\n",
              "          const docLinkHtml = 'Like what you see? Visit the ' +\n",
              "            '<a target=\"_blank\" href=https://colab.research.google.com/notebooks/data_table.ipynb>data table notebook</a>'\n",
              "            + ' to learn more about interactive tables.';\n",
              "          element.innerHTML = '';\n",
              "          dataTable['output_type'] = 'display_data';\n",
              "          await google.colab.output.renderOutput(dataTable, element);\n",
              "          const docLink = document.createElement('div');\n",
              "          docLink.innerHTML = docLinkHtml;\n",
              "          element.appendChild(docLink);\n",
              "        }\n",
              "      </script>\n",
              "    </div>\n",
              "  </div>\n"
            ]
          },
          "metadata": {},
          "execution_count": 31
        }
      ]
    },
    {
      "cell_type": "code",
      "source": [
        "data=data.rename(columns={\"Anomaly fit\":\"WWV Anomaly fit\"})\n",
        "data.dtypes"
      ],
      "metadata": {
        "colab": {
          "base_uri": "https://localhost:8080/"
        },
        "id": "IrLm0g0Cjv2n",
        "outputId": "fa8a1776-4308-45ac-99ba-2f05db5d7eb4"
      },
      "execution_count": null,
      "outputs": [
        {
          "output_type": "execute_result",
          "data": {
            "text/plain": [
              "Date               datetime64[ns]\n",
              "Anomaly                   float64\n",
              "WWV Anomaly fit           float64\n",
              "ENSO val                  float64\n",
              "dtype: object"
            ]
          },
          "metadata": {},
          "execution_count": 32
        }
      ]
    },
    {
      "cell_type": "code",
      "source": [
        "ad_fuller_result_1 = adfuller(data['WWV Anomaly fit'])\n",
        "\n",
        "print('WWV Anomaly')\n",
        "print(f'ADF Statistic: {ad_fuller_result_1[0]}')\n",
        "print(f'p-value: {ad_fuller_result_1[1]}')\n",
        "\n",
        "print('\\n---------------------\\n')\n",
        "\n",
        "ad_fuller_result_2 = adfuller(data['ENSO val'])\n",
        "\n",
        "print('ENSO val')\n",
        "print(f'ADF Statistic: {ad_fuller_result_2[0]}')\n",
        "print(f'p-value: {ad_fuller_result_2[1]}')"
      ],
      "metadata": {
        "colab": {
          "base_uri": "https://localhost:8080/"
        },
        "id": "HbYCV99_mW7w",
        "outputId": "25d47508-88a1-4dbd-feee-8cfd96c9a2a8"
      },
      "execution_count": null,
      "outputs": [
        {
          "output_type": "stream",
          "name": "stdout",
          "text": [
            "WWV Anomaly\n",
            "ADF Statistic: -5.453560663254444\n",
            "p-value: 2.611801630538864e-06\n",
            "\n",
            "---------------------\n",
            "\n",
            "ENSO val\n",
            "ADF Statistic: -5.714709575367639\n",
            "p-value: 7.165183174621446e-07\n"
          ]
        }
      ]
    },
    {
      "cell_type": "markdown",
      "source": [
        "The data provided is STATIONARY because the p values for ADF test are less than 0.05. Thus, we dont have to manipulate the data anymore. We can apply the test directly now."
      ],
      "metadata": {
        "id": "62fmNcLGnfW9"
      }
    },
    {
      "cell_type": "code",
      "source": [
        "print('WWV Anomaly causes ENSO val?\\n')\n",
        "print('------------------')\n",
        "granger_1 = grangercausalitytests(data[['ENSO val', 'WWV Anomaly fit']], 2)\n",
        "\n",
        "print('\\nENSO val causes WWV Anomaly?\\n')\n",
        "print('------------------')\n",
        "granger_2 = grangercausalitytests(data[['WWV Anomaly fit', 'ENSO val']], 2)"
      ],
      "metadata": {
        "colab": {
          "base_uri": "https://localhost:8080/"
        },
        "id": "_6pXhirQnGeR",
        "outputId": "3171ece1-5002-4650-ec1a-cf6a4ea7c0cb"
      },
      "execution_count": null,
      "outputs": [
        {
          "output_type": "stream",
          "name": "stdout",
          "text": [
            "WWV Anomaly causes ENSO val?\n",
            "\n",
            "------------------\n",
            "\n",
            "Granger Causality\n",
            "number of lags (no zero) 1\n",
            "ssr based F test:         F=294.2284, p=0.0000  , df_denom=516, df_num=1\n",
            "ssr based chi2 test:   chi2=295.9391, p=0.0000  , df=1\n",
            "likelihood ratio test: chi2=234.1777, p=0.0000  , df=1\n",
            "parameter F test:         F=294.2284, p=0.0000  , df_denom=516, df_num=1\n",
            "\n",
            "Granger Causality\n",
            "number of lags (no zero) 2\n",
            "ssr based F test:         F=44.6317 , p=0.0000  , df_denom=513, df_num=2\n",
            "ssr based chi2 test:   chi2=90.1335 , p=0.0000  , df=2\n",
            "likelihood ratio test: chi2=83.0971 , p=0.0000  , df=2\n",
            "parameter F test:         F=44.6317 , p=0.0000  , df_denom=513, df_num=2\n",
            "\n",
            "ENSO val causes WWV Anomaly?\n",
            "\n",
            "------------------\n",
            "\n",
            "Granger Causality\n",
            "number of lags (no zero) 1\n",
            "ssr based F test:         F=244.6787, p=0.0000  , df_denom=516, df_num=1\n",
            "ssr based chi2 test:   chi2=246.1013, p=0.0000  , df=1\n",
            "likelihood ratio test: chi2=201.4261, p=0.0000  , df=1\n",
            "parameter F test:         F=244.6787, p=0.0000  , df_denom=516, df_num=1\n",
            "\n",
            "Granger Causality\n",
            "number of lags (no zero) 2\n",
            "ssr based F test:         F=21.8966 , p=0.0000  , df_denom=513, df_num=2\n",
            "ssr based chi2 test:   chi2=44.2201 , p=0.0000  , df=2\n",
            "likelihood ratio test: chi2=42.4336 , p=0.0000  , df=2\n",
            "parameter F test:         F=21.8966 , p=0.0000  , df_denom=513, df_num=2\n"
          ]
        }
      ]
    },
    {
      "cell_type": "markdown",
      "source": [
        "Here we have to check the p values for both the cases. Typically if the p values are less than 0.05 we can apply the test scessfully. Since in btoh the cases p values are less than 0.05, we can use VAR test."
      ],
      "metadata": {
        "id": "XianzcrTpw_u"
      }
    },
    {
      "cell_type": "code",
      "source": [
        "data = data[['ENSO val','WWV Anomaly fit']]\n",
        "print(data.shape)"
      ],
      "metadata": {
        "colab": {
          "base_uri": "https://localhost:8080/"
        },
        "id": "FKb_AZBUqb_w",
        "outputId": "d5ab370d-556d-443b-a11d-16cca6bae9c8"
      },
      "execution_count": null,
      "outputs": [
        {
          "output_type": "stream",
          "name": "stdout",
          "text": [
            "(520, 2)\n"
          ]
        }
      ]
    },
    {
      "cell_type": "markdown",
      "source": [
        "Split the training and testing data. Last 20 values for test. Rest are for training."
      ],
      "metadata": {
        "id": "GAzbbPWorYo1"
      }
    },
    {
      "cell_type": "code",
      "source": [
        "train_data=data[:-5]\n",
        "test_data=data[-5:]"
      ],
      "metadata": {
        "id": "g2FpcM00qvnh"
      },
      "execution_count": null,
      "outputs": []
    },
    {
      "cell_type": "code",
      "source": [
        "print(train_data.shape)\n",
        "print(test_data.shape)"
      ],
      "metadata": {
        "colab": {
          "base_uri": "https://localhost:8080/"
        },
        "id": "8ljeYilErBNA",
        "outputId": "73262de3-7cf6-4230-cda3-ebfea4fed7bd"
      },
      "execution_count": null,
      "outputs": [
        {
          "output_type": "stream",
          "name": "stdout",
          "text": [
            "(515, 2)\n",
            "(5, 2)\n"
          ]
        }
      ]
    },
    {
      "cell_type": "code",
      "source": [
        "model = VAR(train_data)"
      ],
      "metadata": {
        "id": "Rsk_smKirLeq"
      },
      "execution_count": null,
      "outputs": []
    },
    {
      "cell_type": "code",
      "source": [
        "sorted_order=model.select_order(maxlags=20)\n",
        "print(sorted_order.summary())"
      ],
      "metadata": {
        "colab": {
          "base_uri": "https://localhost:8080/"
        },
        "id": "kuzaOPGOr7vX",
        "outputId": "50d3ae36-ab85-423a-cb0a-26f36eea7e25"
      },
      "execution_count": null,
      "outputs": [
        {
          "output_type": "stream",
          "name": "stdout",
          "text": [
            " VAR Order Selection (* highlights the minimums)  \n",
            "==================================================\n",
            "       AIC         BIC         FPE         HQIC   \n",
            "--------------------------------------------------\n",
            "0      -0.2246     -0.2076      0.7989     -0.2179\n",
            "1       -6.805      -6.754    0.001109      -6.785\n",
            "2       -8.119      -8.034   0.0002979      -8.086\n",
            "3       -8.471      -8.352   0.0002095      -8.424\n",
            "4       -8.570      -8.417   0.0001897      -8.510\n",
            "5       -8.683     -8.497*   0.0001694     -8.610*\n",
            "6       -8.689      -8.468   0.0001684      -8.603\n",
            "7       -8.704      -8.449   0.0001660      -8.604\n",
            "8       -8.704      -8.416   0.0001658      -8.591\n",
            "9       -8.727      -8.404   0.0001622      -8.600\n",
            "10     -8.734*      -8.377  0.0001611*      -8.594\n",
            "11      -8.727      -8.336   0.0001622      -8.573\n",
            "12      -8.716      -8.291   0.0001640      -8.549\n",
            "13      -8.714      -8.256   0.0001642      -8.534\n",
            "14      -8.719      -8.226   0.0001635      -8.526\n",
            "15      -8.711      -8.184   0.0001648      -8.504\n",
            "16      -8.720      -8.159   0.0001634      -8.500\n",
            "17      -8.713      -8.119   0.0001645      -8.480\n",
            "18      -8.704      -8.075   0.0001661      -8.457\n",
            "19      -8.722      -8.060   0.0001630      -8.462\n",
            "20      -8.725      -8.028   0.0001626      -8.451\n",
            "--------------------------------------------------\n"
          ]
        }
      ]
    },
    {
      "cell_type": "code",
      "source": [
        "var_model = VARMAX(train_data, order=(5,0),enforce_stationarity= True)\n",
        "fitted_model = var_model.fit(disp=False)\n",
        "print(fitted_model.summary())"
      ],
      "metadata": {
        "colab": {
          "base_uri": "https://localhost:8080/"
        },
        "id": "M340SAvssMO8",
        "outputId": "a3f0a2c0-2cf3-411f-db97-48d3c9fc9d9e"
      },
      "execution_count": null,
      "outputs": [
        {
          "output_type": "stream",
          "name": "stdout",
          "text": [
            "                                  Statespace Model Results                                 \n",
            "===========================================================================================\n",
            "Dep. Variable:     ['ENSO val', 'WWV Anomaly fit']   No. Observations:                  515\n",
            "Model:                                      VAR(5)   Log Likelihood                 786.816\n",
            "                                       + intercept   AIC                          -1523.632\n",
            "Date:                             Tue, 18 Jul 2023   BIC                          -1417.528\n",
            "Time:                                     14:49:27   HQIC                         -1482.049\n",
            "Sample:                                          0                                         \n",
            "                                             - 515                                         \n",
            "Covariance Type:                               opg                                         \n",
            "===================================================================================\n",
            "Ljung-Box (L1) (Q):             0.00, 0.48   Jarque-Bera (JB):          2.92, 19.50\n",
            "Prob(Q):                        0.98, 0.49   Prob(JB):                   0.23, 0.00\n",
            "Heteroskedasticity (H):         0.78, 0.46   Skew:                      0.18, -0.05\n",
            "Prob(H) (two-sided):            0.11, 0.00   Kurtosis:                   2.94, 3.95\n",
            "                            Results for equation ENSO val                             \n",
            "======================================================================================\n",
            "                         coef    std err          z      P>|z|      [0.025      0.975]\n",
            "--------------------------------------------------------------------------------------\n",
            "intercept             -0.0061      0.005     -1.235      0.217      -0.016       0.004\n",
            "L1.ENSO val            1.6617      0.046     36.114      0.000       1.572       1.752\n",
            "L1.WWV Anomaly fit     0.2899      0.037      7.819      0.000       0.217       0.363\n",
            "L2.ENSO val           -0.6814      0.093     -7.300      0.000      -0.864      -0.498\n",
            "L2.WWV Anomaly fit    -0.3943      0.087     -4.529      0.000      -0.565      -0.224\n",
            "L3.ENSO val           -0.2418      0.094     -2.576      0.010      -0.426      -0.058\n",
            "L3.WWV Anomaly fit     0.1645      0.107      1.543      0.123      -0.044       0.373\n",
            "L4.ENSO val            0.3992      0.085      4.716      0.000       0.233       0.565\n",
            "L4.WWV Anomaly fit     0.0189      0.091      0.206      0.837      -0.160       0.198\n",
            "L5.ENSO val           -0.1593      0.044     -3.624      0.000      -0.245      -0.073\n",
            "L5.WWV Anomaly fit    -0.0486      0.041     -1.179      0.238      -0.130       0.032\n",
            "                         Results for equation WWV Anomaly fit                         \n",
            "======================================================================================\n",
            "                         coef    std err          z      P>|z|      [0.025      0.975]\n",
            "--------------------------------------------------------------------------------------\n",
            "intercept              0.0028      0.006      0.475      0.635      -0.009       0.014\n",
            "L1.ENSO val           -0.0174      0.048     -0.361      0.718      -0.112       0.077\n",
            "L1.WWV Anomaly fit     2.3043      0.039     59.695      0.000       2.229       2.380\n",
            "L2.ENSO val           -0.1235      0.099     -1.246      0.213      -0.318       0.071\n",
            "L2.WWV Anomaly fit    -2.4381      0.091    -26.811      0.000      -2.616      -2.260\n",
            "L3.ENSO val            0.1756      0.115      1.532      0.125      -0.049       0.400\n",
            "L3.WWV Anomaly fit     1.7556      0.115     15.280      0.000       1.530       1.981\n",
            "L4.ENSO val           -0.1389      0.112     -1.241      0.215      -0.358       0.081\n",
            "L4.WWV Anomaly fit    -0.9092      0.094     -9.675      0.000      -1.093      -0.725\n",
            "L5.ENSO val            0.0314      0.057      0.550      0.582      -0.080       0.143\n",
            "L5.WWV Anomaly fit     0.2759      0.040      6.819      0.000       0.197       0.355\n",
            "                                       Error covariance matrix                                       \n",
            "=====================================================================================================\n",
            "                                        coef    std err          z      P>|z|      [0.025      0.975]\n",
            "-----------------------------------------------------------------------------------------------------\n",
            "sqrt.var.ENSO val                     0.1055      0.003     30.824      0.000       0.099       0.112\n",
            "sqrt.cov.ENSO val.WWV Anomaly fit     0.0303      0.006      5.286      0.000       0.019       0.042\n",
            "sqrt.var.WWV Anomaly fit              0.1191      0.003     36.860      0.000       0.113       0.125\n",
            "=====================================================================================================\n",
            "\n",
            "Warnings:\n",
            "[1] Covariance matrix calculated using the outer product of gradients (complex-step).\n"
          ]
        }
      ]
    },
    {
      "cell_type": "code",
      "source": [
        "n_forecast = 5\n",
        "predict = fitted_model.get_prediction(start=len(train_data),end=len(train_data) + n_forecast-1)#start=\"1989-07-01\",end='1999-01-01')\n",
        "\n",
        "predictions=predict.predicted_mean"
      ],
      "metadata": {
        "id": "6N4_iw0bsz8B"
      },
      "execution_count": null,
      "outputs": []
    },
    {
      "cell_type": "code",
      "source": [
        "predictions.columns=['ENSO val_predicted','WWV Anomaly fit_predicted']\n",
        "predictions = predictions.drop(['WWV Anomaly fit_predicted'], axis=1)"
      ],
      "metadata": {
        "id": "RbAsNWb6tT4S"
      },
      "execution_count": null,
      "outputs": []
    },
    {
      "cell_type": "code",
      "source": [
        "predictions.dtypes"
      ],
      "metadata": {
        "colab": {
          "base_uri": "https://localhost:8080/"
        },
        "id": "4WbUJe_45HVp",
        "outputId": "1bda1026-bea8-4fec-dbb8-9f12da513b49"
      },
      "execution_count": null,
      "outputs": [
        {
          "output_type": "execute_result",
          "data": {
            "text/plain": [
              "ENSO val_predicted    float64\n",
              "dtype: object"
            ]
          },
          "metadata": {},
          "execution_count": 43
        }
      ]
    },
    {
      "cell_type": "code",
      "source": [
        "test_data = test_data.drop(['WWV Anomaly fit'], axis=1)\n",
        "test_vs_pred=pd.concat([test_data,predictions],axis=1)"
      ],
      "metadata": {
        "id": "P1GHtWjXt6_1"
      },
      "execution_count": null,
      "outputs": []
    },
    {
      "cell_type": "code",
      "source": [
        "test_vs_pred.plot(figsize=(12,5))\n",
        "x = [515.0, 516.0, 517.0, 518.0, 519.0]\n",
        "x_ticks = [\"Dec-22\", \"Jan-23\", \"Feb-23\", \"March-23\",\"April-23\"]\n",
        "plt.xticks(x,x_ticks)\n",
        "plt.title('ENSO VALUE PREDICTIONS')\n",
        "plt.xlabel('Month')\n",
        "plt.ylabel('ENSO value')\n",
        "plt.grid(True)"
      ],
      "metadata": {
        "colab": {
          "base_uri": "https://localhost:8080/",
          "height": 487
        },
        "id": "SIWtty5XuqfB",
        "outputId": "b1a5ccbf-6d5c-4950-90e7-991c0b839a89"
      },
      "execution_count": null,
      "outputs": [
        {
          "output_type": "display_data",
          "data": {
            "text/plain": [
              "<Figure size 1200x500 with 1 Axes>"
            ],
            "image/png": "[encoded data removed]"
          },
          "metadata": {}
        }
      ]
    },
    {
      "cell_type": "code",
      "source": [
        "new_column = [\"Dec-22\", \"Jan-23\", \"Feb-23\", \"March-23\",\"April-23\"]\n",
        "new_column1 = [-0.8, -0.7, -0.4, -0.1, 0.1]\n",
        "predictions['Actual ENSO'] = new_column1\n",
        "predictions['Date'] = new_column"
      ],
      "metadata": {
        "id": "Z26JgXTckHAq"
      },
      "execution_count": null,
      "outputs": []
    },
    {
      "cell_type": "code",
      "source": [
        "new_column_order=['Date','Actual ENSO', 'ENSO val_predicted']\n",
        "predictions = predictions.reindex(columns=new_column_order)\n",
        "#predicitons.set_index('Date', inplace=True)\n",
        "predictions"
      ],
      "metadata": {
        "colab": {
          "base_uri": "https://localhost:8080/",
          "height": 206
        },
        "id": "Mwk83SA4lGOi",
        "outputId": "85d1bb81-f309-4ddf-b2a9-9df77e5186ea"
      },
      "execution_count": null,
      "outputs": [
        {
          "output_type": "execute_result",
          "data": {
            "text/plain": [
              "         Date  Actual ENSO  ENSO val_predicted\n",
              "515    Dec-22         -0.8           -0.733945\n",
              "516    Jan-23         -0.7           -0.540367\n",
              "517    Feb-23         -0.4           -0.342651\n",
              "518  March-23         -0.1           -0.141010\n",
              "519  April-23          0.1            0.060854"
            ],
            "text/html": [
              "\n",
              "\n",
              "  <div id=\"df-2ee1a845-3f1f-403e-94c1-cf9137f7d418\">\n",
              "    <div class=\"colab-df-container\">\n",
              "      <div>\n",
              "<style scoped>\n",
              "    .dataframe tbody tr th:only-of-type {\n",
              "        vertical-align: middle;\n",
              "    }\n",
              "\n",
              "    .dataframe tbody tr th {\n",
              "        vertical-align: top;\n",
              "    }\n",
              "\n",
              "    .dataframe thead th {\n",
              "        text-align: right;\n",
              "    }\n",
              "</style>\n",
              "<table border=\"1\" class=\"dataframe\">\n",
              "  <thead>\n",
              "    <tr style=\"text-align: right;\">\n",
              "      <th></th>\n",
              "      <th>Date</th>\n",
              "      <th>Actual ENSO</th>\n",
              "      <th>ENSO val_predicted</th>\n",
              "    </tr>\n",
              "  </thead>\n",
              "  <tbody>\n",
              "    <tr>\n",
              "      <th>515</th>\n",
              "      <td>Dec-22</td>\n",
              "      <td>-0.8</td>\n",
              "      <td>-0.733945</td>\n",
              "    </tr>\n",
              "    <tr>\n",
              "      <th>516</th>\n",
              "      <td>Jan-23</td>\n",
              "      <td>-0.7</td>\n",
              "      <td>-0.540367</td>\n",
              "    </tr>\n",
              "    <tr>\n",
              "      <th>517</th>\n",
              "      <td>Feb-23</td>\n",
              "      <td>-0.4</td>\n",
              "      <td>-0.342651</td>\n",
              "    </tr>\n",
              "    <tr>\n",
              "      <th>518</th>\n",
              "      <td>March-23</td>\n",
              "      <td>-0.1</td>\n",
              "      <td>-0.141010</td>\n",
              "    </tr>\n",
              "    <tr>\n",
              "      <th>519</th>\n",
              "      <td>April-23</td>\n",
              "      <td>0.1</td>\n",
              "      <td>0.060854</td>\n",
              "    </tr>\n",
              "  </tbody>\n",
              "</table>\n",
              "</div>\n",
              "      <button class=\"colab-df-convert\" onclick=\"convertToInteractive('df-2ee1a845-3f1f-403e-94c1-cf9137f7d418')\"\n",
              "              title=\"Convert this dataframe to an interactive table.\"\n",
              "              style=\"display:none;\">\n",
              "\n",
              "  <svg xmlns=\"http://www.w3.org/2000/svg\" height=\"24px\"viewBox=\"0 0 24 24\"\n",
              "       width=\"24px\">\n",
              "    <path d=\"M0 0h24v24H0V0z\" fill=\"none\"/>\n",
              "    <path d=\"M18.56 5.44l.94 2.06.94-2.06 2.06-.94-2.06-.94-.94-2.06-.94 2.06-2.06.94zm-11 1L8.5 8.5l.94-2.06 2.06-.94-2.06-.94L8.5 2.5l-.94 2.06-2.06.94zm10 10l.94 2.06.94-2.06 2.06-.94-2.06-.94-.94-2.06-.94 2.06-2.06.94z\"/><path d=\"M17.41 7.96l-1.37-1.37c-.4-.4-.92-.59-1.43-.59-.52 0-1.04.2-1.43.59L10.3 9.45l-7.72 7.72c-.78.78-.78 2.05 0 2.83L4 21.41c.39.39.9.59 1.41.59.51 0 1.02-.2 1.41-.59l7.78-7.78 2.81-2.81c.8-.78.8-2.07 0-2.86zM5.41 20L4 18.59l7.72-7.72 1.47 1.35L5.41 20z\"/>\n",
              "  </svg>\n",
              "      </button>\n",
              "\n",
              "\n",
              "\n",
              "    <div id=\"df-6f6ef3d4-4b84-4f7b-bc1d-bfc0c8de391c\">\n",
              "      <button class=\"colab-df-quickchart\" onclick=\"quickchart('df-6f6ef3d4-4b84-4f7b-bc1d-bfc0c8de391c')\"\n",
              "              title=\"Suggest charts.\"\n",
              "              style=\"display:none;\">\n",
              "\n",
              "<svg xmlns=\"http://www.w3.org/2000/svg\" height=\"24px\"viewBox=\"0 0 24 24\"\n",
              "     width=\"24px\">\n",
              "    <g>\n",
              "        <path d=\"M19 3H5c-1.1 0-2 .9-2 2v14c0 1.1.9 2 2 2h14c1.1 0 2-.9 2-2V5c0-1.1-.9-2-2-2zM9 17H7v-7h2v7zm4 0h-2V7h2v10zm4 0h-2v-4h2v4z\"/>\n",
              "    </g>\n",
              "</svg>\n",
              "      </button>\n",
              "    </div>\n",
              "\n",
              "<style>\n",
              "  .colab-df-quickchart {\n",
              "    background-color: #E8F0FE;\n",
              "    border: none;\n",
              "    border-radius: 50%;\n",
              "    cursor: pointer;\n",
              "    display: none;\n",
              "    fill: #1967D2;\n",
              "    height: 32px;\n",
              "    padding: 0 0 0 0;\n",
              "    width: 32px;\n",
              "  }\n",
              "\n",
              "  .colab-df-quickchart:hover {\n",
              "    background-color: #E2EBFA;\n",
              "    box-shadow: 0px 1px 2px rgba(60, 64, 67, 0.3), 0px 1px 3px 1px rgba(60, 64, 67, 0.15);\n",
              "    fill: #174EA6;\n",
              "  }\n",
              "\n",
              "  [theme=dark] .colab-df-quickchart {\n",
              "    background-color: #3B4455;\n",
              "    fill: #D2E3FC;\n",
              "  }\n",
              "\n",
              "  [theme=dark] .colab-df-quickchart:hover {\n",
              "    background-color: #434B5C;\n",
              "    box-shadow: 0px 1px 3px 1px rgba(0, 0, 0, 0.15);\n",
              "    filter: drop-shadow(0px 1px 2px rgba(0, 0, 0, 0.3));\n",
              "    fill: #FFFFFF;\n",
              "  }\n",
              "</style>\n",
              "\n",
              "    <script>\n",
              "      async function quickchart(key) {\n",
              "        const containerElement = document.querySelector('#' + key);\n",
              "        const charts = await google.colab.kernel.invokeFunction(\n",
              "            'suggestCharts', [key], {});\n",
              "      }\n",
              "    </script>\n",
              "\n",
              "      <script>\n",
              "\n",
              "function displayQuickchartButton(domScope) {\n",
              "  let quickchartButtonEl =\n",
              "    domScope.querySelector('#df-6f6ef3d4-4b84-4f7b-bc1d-bfc0c8de391c button.colab-df-quickchart');\n",
              "  quickchartButtonEl.style.display =\n",
              "    google.colab.kernel.accessAllowed ? 'block' : 'none';\n",
              "}\n",
              "\n",
              "        displayQuickchartButton(document);\n",
              "      </script>\n",
              "      <style>\n",
              "    .colab-df-container {\n",
              "      display:flex;\n",
              "      flex-wrap:wrap;\n",
              "      gap: 12px;\n",
              "    }\n",
              "\n",
              "    .colab-df-convert {\n",
              "      background-color: #E8F0FE;\n",
              "      border: none;\n",
              "      border-radius: 50%;\n",
              "      cursor: pointer;\n",
              "      display: none;\n",
              "      fill: #1967D2;\n",
              "      height: 32px;\n",
              "      padding: 0 0 0 0;\n",
              "      width: 32px;\n",
              "    }\n",
              "\n",
              "    .colab-df-convert:hover {\n",
              "      background-color: #E2EBFA;\n",
              "      box-shadow: 0px 1px 2px rgba(60, 64, 67, 0.3), 0px 1px 3px 1px rgba(60, 64, 67, 0.15);\n",
              "      fill: #174EA6;\n",
              "    }\n",
              "\n",
              "    [theme=dark] .colab-df-convert {\n",
              "      background-color: #3B4455;\n",
              "      fill: #D2E3FC;\n",
              "    }\n",
              "\n",
              "    [theme=dark] .colab-df-convert:hover {\n",
              "      background-color: #434B5C;\n",
              "      box-shadow: 0px 1px 3px 1px rgba(0, 0, 0, 0.15);\n",
              "      filter: drop-shadow(0px 1px 2px rgba(0, 0, 0, 0.3));\n",
              "      fill: #FFFFFF;\n",
              "    }\n",
              "  </style>\n",
              "\n",
              "      <script>\n",
              "        const buttonEl =\n",
              "          document.querySelector('#df-2ee1a845-3f1f-403e-94c1-cf9137f7d418 button.colab-df-convert');\n",
              "        buttonEl.style.display =\n",
              "          google.colab.kernel.accessAllowed ? 'block' : 'none';\n",
              "\n",
              "        async function convertToInteractive(key) {\n",
              "          const element = document.querySelector('#df-2ee1a845-3f1f-403e-94c1-cf9137f7d418');\n",
              "          const dataTable =\n",
              "            await google.colab.kernel.invokeFunction('convertToInteractive',\n",
              "                                                     [key], {});\n",
              "          if (!dataTable) return;\n",
              "\n",
              "          const docLinkHtml = 'Like what you see? Visit the ' +\n",
              "            '<a target=\"_blank\" href=https://colab.research.google.com/notebooks/data_table.ipynb>data table notebook</a>'\n",
              "            + ' to learn more about interactive tables.';\n",
              "          element.innerHTML = '';\n",
              "          dataTable['output_type'] = 'display_data';\n",
              "          await google.colab.output.renderOutput(dataTable, element);\n",
              "          const docLink = document.createElement('div');\n",
              "          docLink.innerHTML = docLinkHtml;\n",
              "          element.appendChild(docLink);\n",
              "        }\n",
              "      </script>\n",
              "    </div>\n",
              "  </div>\n"
            ]
          },
          "metadata": {},
          "execution_count": 47
        }
      ]
    },
    {
      "cell_type": "code",
      "source": [
        "from sklearn.metrics import mean_squared_error\n",
        "import math\n",
        "from statistics import mean\n",
        "\n",
        "rmse_ENSOval=math.sqrt(mean_squared_error(predictions['ENSO val_predicted'],test_data['ENSO val']))\n",
        "print('Mean value of ENSO val is : {}. Root Mean Squared Error is :{}'.format(mean(test_data['ENSO val']),rmse_ENSOval))\n",
        "\n",
        "#rmse_anomaly=math.sqrt(mean_squared_error(predictions['WWV Anomaly fit_predicted'],test_data['WWV Anomaly fit']))\n",
        "#print('Mean value of WWV Anomaly fit is : {}. Root Mean Squared Error is :{}'.format(mean(test_data['WWV Anomaly fit']),rmse_anomaly))"
      ],
      "metadata": {
        "colab": {
          "base_uri": "https://localhost:8080/"
        },
        "id": "BY7ZnHqkutRa",
        "outputId": "542228f2-4bcc-40a5-adff-37aafa107356"
      },
      "execution_count": null,
      "outputs": [
        {
          "output_type": "stream",
          "name": "stdout",
          "text": [
            "Mean value of ENSO val is : -0.38. Root Mean Squared Error is :0.08526312157897298\n"
          ]
        }
      ]
    },
    {
      "cell_type": "markdown",
      "source": [
        "Please note that the WWV Anomaly fit here referst to the Warm Water\n",
        "Anomaly data that is divided by 10 raised to 14, so that it fits the ENSO data."
      ],
      "metadata": {
        "id": "BdRRiBGUwWXV"
      }
    },
    {
      "cell_type": "markdown",
      "source": [
        "![image.png](data:image/png;base64,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)"
      ],
      "metadata": {
        "id": "HJ5hqoDzsGl0"
      }
    },
    {
      "cell_type": "code",
      "source": [],
      "metadata": {
        "id": "0CRf6jHveJZu"
      },
      "execution_count": null,
      "outputs": []
    }
  ]
}